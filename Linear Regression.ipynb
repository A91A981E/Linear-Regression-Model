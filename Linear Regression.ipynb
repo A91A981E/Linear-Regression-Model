{
 "cells": [
  {
   "cell_type": "markdown",
   "id": "74357ccf",
   "metadata": {},
   "source": [
    "# Linear Regression Model\n"
   ]
  },
  {
   "cell_type": "markdown",
   "id": "392f17c3",
   "metadata": {},
   "source": [
    "## Import necessary packages\n"
   ]
  },
  {
   "cell_type": "code",
   "execution_count": 1,
   "id": "59bbc7e2",
   "metadata": {},
   "outputs": [],
   "source": [
    "import torch\n",
    "import random\n",
    "from typing import List"
   ]
  },
  {
   "cell_type": "markdown",
   "id": "6992fb59",
   "metadata": {},
   "source": [
    "## Define model & functions\n"
   ]
  },
  {
   "cell_type": "markdown",
   "id": "06fbef7c",
   "metadata": {},
   "source": [
    "Linear Regression Model:\n",
    "\n",
    "$$\n",
    "\\hat{y} = w_1 \\times x_1 + w_2 \\times x_2 + \\cdots + w_m \\times x_m = X_{(n, m)}\\times W_{(m, 1)} + b\n",
    "$$"
   ]
  },
  {
   "cell_type": "code",
   "execution_count": 2,
   "id": "2fb1f725",
   "metadata": {},
   "outputs": [],
   "source": [
    "def LinearRegressionModel(X: torch.tensor, W: torch.tensor, b: torch.tensor):\n",
    "    return torch.matmul(X, W) + b"
   ]
  },
  {
   "cell_type": "code",
   "execution_count": 3,
   "id": "bfeb78a2",
   "metadata": {},
   "outputs": [],
   "source": [
    "def data_generator(data_num: int, feature_dim: int, W: torch.tensor, b: torch.tensor):\n",
    "    X = torch.normal(0, 1, (data_num, feature_dim))\n",
    "    y = torch.matmul(X, W) + b\n",
    "    y += torch.normal(0, 1, y.shape)\n",
    "    return X, y"
   ]
  },
  {
   "cell_type": "code",
   "execution_count": 4,
   "id": "28383ee3",
   "metadata": {},
   "outputs": [],
   "source": [
    "def data_iter(features: torch.tensor, labels: torch.tensor, batch_size: int, shuffle: bool = True):\n",
    "    data_num = len(features)\n",
    "    idx = list(range(data_num))\n",
    "    if shuffle:\n",
    "        random.shuffle(idx)\n",
    "    for i in range(0, data_num, batch_size):\n",
    "        batch_idx = idx[i: min(data_num, i + batch_size)]\n",
    "        yield features[batch_idx], labels[batch_idx]"
   ]
  },
  {
   "cell_type": "markdown",
   "id": "c80285d9",
   "metadata": {},
   "source": [
    "Gradient Descent:\n",
    "$$\n",
    "w = w - \\alpha \\times \\frac{\\partial loss}{\\partial w}\n",
    "$$"
   ]
  },
  {
   "cell_type": "code",
   "execution_count": 5,
   "id": "e2cbe96e",
   "metadata": {},
   "outputs": [],
   "source": [
    "def GD(params: List[torch.tensor], batch_size: int, lr=1e-3):\n",
    "    with torch.no_grad():\n",
    "        for param in params:\n",
    "            param -= lr * param.grad / batch_size\n",
    "            param.grad.zero_()"
   ]
  },
  {
   "cell_type": "markdown",
   "id": "c1fa80a8",
   "metadata": {},
   "source": [
    "MSE:\n",
    "$$\n",
    "\\text{MSE}=\\frac12\\sum\\left( \\hat{y} - y \\right)^2\n",
    "$$"
   ]
  },
  {
   "cell_type": "code",
   "execution_count": 6,
   "id": "08f19dd9",
   "metadata": {},
   "outputs": [],
   "source": [
    "def MSE(y_hat: torch.tensor, y: torch.tensor):\n",
    "    return (y_hat - y.reshape(y_hat.shape)) ** 2 / 2"
   ]
  },
  {
   "cell_type": "code",
   "execution_count": 7,
   "id": "ff7490cc",
   "metadata": {},
   "outputs": [],
   "source": [
    "def init_params(feature_dim):\n",
    "    return torch.rand((feature_dim, 1), requires_grad=True), torch.rand((1,), requires_grad=True)"
   ]
  },
  {
   "cell_type": "markdown",
   "id": "d2fddcfa",
   "metadata": {},
   "source": [
    "## Prepare for training\n"
   ]
  },
  {
   "cell_type": "code",
   "execution_count": 8,
   "id": "03ccf42e",
   "metadata": {},
   "outputs": [],
   "source": [
    "feature_dim = 5\n",
    "data_num = 1000\n",
    "\n",
    "W_gt = torch.randint(-10, 10, (feature_dim, 1)).float()\n",
    "b_gt = torch.randint(-10, 10, (1,)).float()\n",
    "\n",
    "batch_size = 4\n",
    "epochs = 5\n",
    "shuffle= True\n",
    "lr = 3e-3\n",
    "\n",
    "# Model and train data etc. definition\n",
    "model = LinearRegressionModel\n",
    "W, b = init_params(feature_dim)\n",
    "\n",
    "features, labels = data_generator(data_num, feature_dim, W_gt, b_gt)\n",
    "\n",
    "loss_f = MSE\n",
    "opt = GD"
   ]
  },
  {
   "cell_type": "markdown",
   "id": "def974f4",
   "metadata": {},
   "source": [
    "## Train"
   ]
  },
  {
   "cell_type": "code",
   "execution_count": 9,
   "id": "afe6a480",
   "metadata": {},
   "outputs": [
    {
     "name": "stdout",
     "output_type": "stream",
     "text": [
      "Epoch 1 loss tensor(332.2632)\n",
      "Epoch 2 loss tensor(16.3614)\n",
      "Epoch 3 loss tensor(3.8092)\n",
      "Epoch 4 loss tensor(2.0346)\n",
      "Epoch 5 loss tensor(1.0479)\n"
     ]
    }
   ],
   "source": [
    "for epoch in range(epochs):\n",
    "    for batch_features, batch_labels in data_iter(features, labels, batch_size, shuffle):\n",
    "        labels_pred = model(batch_features, W, b)\n",
    "        loss = loss_f(labels_pred, batch_labels)\n",
    "        loss.sum().backward()\n",
    "        opt([W, b], batch_size, lr)\n",
    "    print('Epoch', epoch + 1, 'loss', loss.sum().detach())"
   ]
  },
  {
   "cell_type": "markdown",
   "id": "fcb68ef4",
   "metadata": {},
   "source": [
    "## Test"
   ]
  },
  {
   "cell_type": "code",
   "execution_count": 10,
   "id": "638a112f",
   "metadata": {},
   "outputs": [],
   "source": [
    "import matplotlib.pyplot as plt"
   ]
  },
  {
   "cell_type": "code",
   "execution_count": 11,
   "id": "8dbc67bc",
   "metadata": {},
   "outputs": [],
   "source": [
    "X_test, y_test = data_generator(100, feature_dim, W_gt, b_gt)"
   ]
  },
  {
   "cell_type": "code",
   "execution_count": 12,
   "id": "457cd480",
   "metadata": {},
   "outputs": [],
   "source": [
    "with torch.no_grad():\n",
    "    pred = model(X_test, W, b)"
   ]
  },
  {
   "cell_type": "code",
   "execution_count": 13,
   "id": "ae43e77f",
   "metadata": {},
   "outputs": [
    {
     "data": {
      "text/plain": [
       "[<matplotlib.lines.Line2D at 0x1f98c4aa948>]"
      ]
     },
     "execution_count": 13,
     "metadata": {},
     "output_type": "execute_result"
    },
    {
     "data": {
      "image/png": "[encoded data removed]",
      "text/plain": [
       "<Figure size 432x288 with 1 Axes>"
      ]
     },
     "metadata": {
      "needs_background": "light"
     },
     "output_type": "display_data"
    }
   ],
   "source": [
    "plt.plot(y_test, 'r')\n",
    "plt.plot(pred, 'b')"
   ]
  },
  {
   "cell_type": "code",
   "execution_count": null,
   "id": "3059199e",
   "metadata": {},
   "outputs": [],
   "source": []
  }
 ],
 "metadata": {
  "kernelspec": {
   "display_name": "Python 3 (ipykernel)",
   "language": "python",
   "name": "python3"
  },
  "language_info": {
   "codemirror_mode": {
    "name": "ipython",
    "version": 3
   },
   "file_extension": ".py",
   "mimetype": "text/x-python",
   "name": "python",
   "nbconvert_exporter": "python",
   "pygments_lexer": "ipython3",
   "version": "3.7.5"
  }
 },
 "nbformat": 4,
 "nbformat_minor": 5
}
